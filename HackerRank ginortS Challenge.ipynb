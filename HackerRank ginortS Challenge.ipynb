{
 "cells": [
  {
   "cell_type": "markdown",
   "id": "f1bdf6d8",
   "metadata": {},
   "source": [
    "You are given a string .\n",
    "contains alphanumeric characters only.\n",
    "Your task is to sort the string  in the following manner:\n",
    "\n",
    "All sorted lowercase letters are ahead of uppercase letters.\n",
    "All sorted uppercase letters are ahead of digits.\n",
    "All sorted odd digits are ahead of sorted even digits.\n",
    "Input Format\n",
    "\n",
    "A single line of input contains the string .\n",
    "\n",
    "Constraints\n",
    "* 0 < len(s) < 1000\n",
    "\n",
    "Output Format\n",
    "\n",
    "Output the sorted string .\n",
    "\n",
    "Sample Input\n",
    "\n",
    "`Sorting1234`\n",
    "\n",
    "sample output\n",
    "\n",
    "`ginortS1324`"
   ]
  },
  {
   "cell_type": "code",
   "execution_count": 9,
   "id": "8f9cf951",
   "metadata": {},
   "outputs": [
    {
     "name": "stdout",
     "output_type": "stream",
     "text": [
      "input: Sorting1234\n",
      ".................\n",
      "output: ginortS1324\n"
     ]
    }
   ],
   "source": [
    "upper = []\n",
    "lower = []\n",
    "digit_odd = []\n",
    "digit_even = []\n",
    "\n",
    "words = input('input: ')\n",
    "for i in words:\n",
    "    if i.isupper():\n",
    "        upper.append(i)\n",
    "    if i.islower():\n",
    "        lower.append(i)\n",
    "    if i.isdigit() and int(i) % 2 != 0:\n",
    "        digit_odd.append(i)\n",
    "    if i.isdigit() and int(i) % 2 == 0:\n",
    "        digit_even.append(i)\n",
    "result = sorted(lower) + sorted(upper) + sorted(digit_odd) + sorted(digit_even)\n",
    "print('.................')\n",
    "print('output:' ,''.join(result))"
   ]
  },
  {
   "cell_type": "code",
   "execution_count": null,
   "id": "5a7f854e",
   "metadata": {},
   "outputs": [],
   "source": []
  }
 ],
 "metadata": {
  "kernelspec": {
   "display_name": "Python 3 (ipykernel)",
   "language": "python",
   "name": "python3"
  },
  "language_info": {
   "codemirror_mode": {
    "name": "ipython",
    "version": 3
   },
   "file_extension": ".py",
   "mimetype": "text/x-python",
   "name": "python",
   "nbconvert_exporter": "python",
   "pygments_lexer": "ipython3",
   "version": "3.9.12"
  }
 },
 "nbformat": 4,
 "nbformat_minor": 5
}
