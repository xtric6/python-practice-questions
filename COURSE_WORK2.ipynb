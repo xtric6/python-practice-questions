{
 "cells": [
  {
   "cell_type": "markdown",
   "id": "b899f977",
   "metadata": {},
   "source": [
    "### CE156 COURSEWORK AUTUMN 2022"
   ]
  },
  {
   "cell_type": "markdown",
   "id": "4ce22662",
   "metadata": {},
   "source": [
    "##### Exercise 1 (10%)"
   ]
  },
  {
   "cell_type": "raw",
   "id": "77d76173",
   "metadata": {},
   "source": [
    "Write a program that asks the user to input his/her date of birth in the format dd/mm/yyyy.\n",
    "If the input is not in the correct format or the date is invalid the program should output an\n",
    "appropriate error message. If the input is a valid date the program should calculate and\n",
    "output the user’s age. (You will need to check whether the user has had a birthday this\n",
    "year e.g. someone born on 01/11/2000 will be 21 on 15 December 2022, but someone\n",
    "born on 25/12/2000 will still be 21.) The program should additionally output a “Happy\n",
    "birthday” message if it is the user’s birthday today.\n",
    "To calculate the age you will need to obtain today’s date; to do this you need to use the\n",
    "line\n",
    "from datetime import date\n",
    "and then use date.today() to obtain a date object containing today’s date. You can\n",
    "access the day, month and year of a date d using d.day, d.month and d.year (these are\n",
    "all integer values)."
   ]
  },
  {
   "cell_type": "code",
   "execution_count": 3,
   "id": "85bd2e94",
   "metadata": {},
   "outputs": [],
   "source": [
    "import datetime as dt"
   ]
  },
  {
   "cell_type": "code",
   "execution_count": 87,
   "id": "cb97c265",
   "metadata": {},
   "outputs": [
    {
     "name": "stdout",
     "output_type": "stream",
     "text": [
      "Please input your date of birth in this format dd/mm/yy: 29/11/98\n",
      "You are 24 years old\n",
      "HAPPY BIRTHDAY!!!🎂🎈🎈🎈\n"
     ]
    }
   ],
   "source": [
    "user_dateofbirth = input(\"Please input your date of birth in this format dd/mm/yy: \")\n",
    "\n",
    "dateformat = \"%d/%m/%y\"\n",
    "\n",
    "    \n",
    "try:\n",
    "    user_birth_day_full = dt.datetime.strptime(user_dateofbirth,dateformat)\n",
    "    user_birth_year = dt.datetime.strptime(user_dateofbirth,dateformat).year\n",
    "    user_birth_month = dt.datetime.strptime(user_dateofbirth,dateformat).month\n",
    "    user_birth_day = dt.datetime.strptime(user_dateofbirth,dateformat).day\n",
    "    current_day_full = dt.datetime.strptime(user_dateofbirth,dateformat)\n",
    "    current_year = dt.datetime.today().year\n",
    "    current_month = dt.datetime.today().month\n",
    "    current_day = dt.datetime.today().day\n",
    "    users_age = current_year - user_birth_year\n",
    "    \n",
    "    if current_month < user_birth_month:\n",
    "        users_age_1 = users_age - 1\n",
    "        print(f\"You are {users_age_1}years old\")\n",
    "    elif current_month > user_birth_month:\n",
    "        print(f\"You are {users_age} years old\")\n",
    "    elif (current_month == user_birth_month) and (current_day < user_birth_day):\n",
    "        print(f\"You are {users_age_1}\")\n",
    "    elif (current_month == user_birth_month) and (current_day > user_birth_day):\n",
    "        print(f\"You are {users_age} years old\")\n",
    "    elif current_month == user_birth_month and (current_day == user_birth_day):\n",
    "        print(f\"You are {users_age} years old\")\n",
    "        print(\"HAPPY BIRTHDAY!!!🎂🎈🎈🎈\")\n",
    "    \n",
    "except ValueError:\n",
    "    print(\"Incorrect date format,should be dd/mm/yy\")\n",
    "    \n",
    "    "
   ]
  },
  {
   "cell_type": "markdown",
   "id": "1b8564a7",
   "metadata": {},
   "source": [
    "#### Exercise 2 (15%)"
   ]
  },
  {
   "cell_type": "raw",
   "id": "5291fa22",
   "metadata": {},
   "source": [
    "Write a function that returns a list of the prime numbers between two positive integers\n",
    "supplied as arguments. Use this is in a program that asks the user to supply two positive\n",
    "integers, checks that the input is valid, then calls the function and outputs the numbers in\n",
    "the returned list, with 10 numbers per output line.\n",
    "If the user enters negative numbers or supplies non-numeric input the program should\n",
    "output an appropriate error message; the two numbers should be accepted in either order.\n",
    "The range should be inclusive; if the user inputs 103 and 1009 (or 1009 and 103) these\n",
    "two numbers (which are both prime) should be included in the output."
   ]
  },
  {
   "cell_type": "code",
   "execution_count": 212,
   "id": "78ee3132",
   "metadata": {},
   "outputs": [
    {
     "name": "stdout",
     "output_type": "stream",
     "text": [
      "Enter the first number: o\n",
      "Enter a valid number\n",
      "103 107 109 113 127 131 137 139 149 151\n",
      "157 163 167 173 179 181 191 193 197 199\n",
      "211 223 227 229 233 239 241 251 257 263\n",
      "269 271 277 281 283 293 307 311 313 317\n",
      "331 337 347 349 353 359 367 373 379 383\n",
      "389 397 401 409 419 421 431 433 439 443\n",
      "449 457 461 463 467 479 487 491 499 503\n",
      "509 521 523 541 547 557 563 569 571 577\n",
      "587 593 599 601 607 613 617 619 631 641\n",
      "643 647 653 659 661 673 677 683 691 701\n",
      "709 719 727 733 739 743 751 757 761 769\n",
      "773 787 797 809 811 821 823 827 829 839\n",
      "853 857 859 863 877 881 883 887 907 911\n",
      "919 929 937 941 947 953 967 971 977 983\n",
      "991 997 None\n"
     ]
    }
   ],
   "source": [
    "def format_list(number):\n",
    "    counter = 0\n",
    "    for num in number:\n",
    "        counter+=1\n",
    "        print(num,end=(\" \" if counter < 10 else \"\\n\"))\n",
    "        if counter == 10:\n",
    "            counter = 0\n",
    "\n",
    "def check_negative_numbers(num1,num2):\n",
    "    if num1 < 1 or num2 < 1:\n",
    "        return True\n",
    "    else: \n",
    "        return False\n",
    "\n",
    "\n",
    "def check_prime_number(num):\n",
    "    if num > 1:\n",
    "       # check for factors\n",
    "        for i in range(2,num):\n",
    "            if (num % i) == 0:\n",
    "                return False\n",
    "                break\n",
    "        else:\n",
    "            return True\n",
    "           # if input number is less than\n",
    "    # or equal to 1, it is not prime\n",
    "    else:\n",
    "        return False\n",
    "\n",
    "\n",
    "try:\n",
    "    number_1 = int(input(\"Enter the first number: \"))\n",
    "    number_2 = int(input(\"Enter a second number: \"))\n",
    "    check = check_negative_numbers(number_1 ,number_2)\n",
    "    print(check)\n",
    "except:\n",
    "    print(\"Enter a valid number\")\n",
    "\n",
    "\n",
    "if check:\n",
    "    print(\"Please Enter a valid non-negative number\")\n",
    "else:\n",
    "    prime = []\n",
    "    for num in range(number_1,number_2):\n",
    "        prime_num = check_prime_number(num)\n",
    "        if prime_num == True:\n",
    "            prime.append(num)\n",
    "    print(format_list(prime))"
   ]
  },
  {
   "cell_type": "markdown",
   "id": "c0a15f09",
   "metadata": {},
   "source": [
    "##### Exercise 3 (25%)"
   ]
  },
  {
   "cell_type": "raw",
   "id": "ad5f6c80",
   "metadata": {},
   "source": [
    "The three functions for this exercise should be written in a single .py file. You should not\n",
    "submit any code that calls the functions, although it is strongly recommended that you do\n",
    "produce such code in order to test your functions\n",
    "a) Write a function that takes a string as a parameter and returns True if and only if\n",
    "the string is a palindrome\n",
    "b) Write a function that takes a string as a parameter, converts the string to lower-case\n",
    "and returns the third most frequent letter. (If there are equally frequent letters you\n",
    "may return any one of the third most frequent letters.) Non-letters should be\n",
    "ignored.\n",
    "c) Write a function that takes a string as a parameter, counts the number of uppercase-letters, lower-case letters and digits in the string and returns a tuple containing\n",
    "the three counts.\n"
   ]
  },
  {
   "cell_type": "code",
   "execution_count": 8,
   "id": "388ca2be",
   "metadata": {},
   "outputs": [
    {
     "data": {
      "text/plain": [
       "True"
      ]
     },
     "execution_count": 8,
     "metadata": {},
     "output_type": "execute_result"
    }
   ],
   "source": [
    "#3i\n",
    "def check_palindrome(word):\n",
    "    if word[::-1] == word:\n",
    "        return True\n",
    "    else:\n",
    "        False\n",
    "        \n",
    "check_palindrome(\"deified\")"
   ]
  },
  {
   "cell_type": "code",
   "execution_count": 154,
   "id": "7336ad3e",
   "metadata": {},
   "outputs": [
    {
     "name": "stdout",
     "output_type": "stream",
     "text": [
      "{'i': 1, 'n': 1, 't': 1, 'e': 1, 'r': 1, 'a': 1, 'o': 1, 'p': 1, 'j': 1, 'm': 1, 'l': 1}\n"
     ]
    }
   ],
   "source": [
    "#3ii\n",
    "def get_third_most_frequent(word):\n",
    "    word = word.lower()\n",
    "    return word\n",
    "\n",
    "word = \"internationapoijmtttttl\"\n",
    "keys = []\n",
    "values = []\n",
    "distinct = []\n",
    "for i in word:\n",
    "    result = word.count(i)\n",
    "    keys.append(i)\n",
    "    values.append(result)\n",
    "#print(keys)\n",
    "#print(values.sort(reverse=True))\n",
    "mytuple = list(zip(keys,results))\n",
    "#print(mytuple)\n",
    "for i,j in mytuple:\n",
    "    distinct.append(j)\n",
    "    results= sorted(set(distinct),reverse=True)\n",
    "    new_dict = dict.fromkeys(keys, j)\n",
    "print(new_dict)"
   ]
  },
  {
   "cell_type": "code",
   "execution_count": 209,
   "id": "5f5e984f",
   "metadata": {},
   "outputs": [],
   "source": [
    "#3iii\n",
    "def count_UPPER_lower_Digit(word):\n",
    "    upper,lower,digit = 0,0,0\n",
    "    for i in range(len(word)):\n",
    "        if word[i].isupper():\n",
    "            upper+= 1\n",
    "        elif word[i].islower():\n",
    "            lower+= 1\n",
    "        elif word[i].isdigit():\n",
    "            digit+=1\n",
    "    print((upper,lower,digit))"
   ]
  },
  {
   "cell_type": "code",
   "execution_count": 210,
   "id": "3216890f",
   "metadata": {},
   "outputs": [
    {
     "name": "stdout",
     "output_type": "stream",
     "text": [
      "(7, 7, 1)\n"
     ]
    }
   ],
   "source": [
    "count_UPPER_lower_Digit(\"AHSNDkshssYAkk3\")"
   ]
  },
  {
   "cell_type": "code",
   "execution_count": null,
   "id": "7446ad82",
   "metadata": {},
   "outputs": [],
   "source": []
  },
  {
   "cell_type": "code",
   "execution_count": null,
   "id": "66a1b942",
   "metadata": {},
   "outputs": [],
   "source": []
  }
 ],
 "metadata": {
  "kernelspec": {
   "display_name": "Python 3 (ipykernel)",
   "language": "python",
   "name": "python3"
  },
  "language_info": {
   "codemirror_mode": {
    "name": "ipython",
    "version": 3
   },
   "file_extension": ".py",
   "mimetype": "text/x-python",
   "name": "python",
   "nbconvert_exporter": "python",
   "pygments_lexer": "ipython3",
   "version": "3.9.12"
  }
 },
 "nbformat": 4,
 "nbformat_minor": 5
}
