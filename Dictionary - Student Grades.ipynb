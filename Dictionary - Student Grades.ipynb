{
 "cells": [
  {
   "cell_type": "markdown",
   "id": "6ce6d897",
   "metadata": {},
   "source": [
    "**Instruction:**\n",
    "Write a program that converts student scores to grade. By the end of the program we should have a new dictionary called student_grades that should contain student names for keys and their grades fro values.\n",
    "**This is the scoring criteria**\n",
    "* Scores 91-100 Grade= 'Outstanding'\n",
    "* Scores 81-90 Grade= 'Exceeeds Expectation'\n",
    "* Scores 71-80 Grade= 'Acceptable'\n",
    "* Scores below 70 Grade= 'Fail'"
   ]
  },
  {
   "cell_type": "code",
   "execution_count": 1,
   "id": "64882e30",
   "metadata": {},
   "outputs": [],
   "source": [
    "student_scores = {'Harry':81,\n",
    "                  'Ron':78,'Hermione':99,\n",
    "                  'Draco':74,\n",
    "                  'Neiville':62\n",
    "                 }"
   ]
  },
  {
   "cell_type": "code",
   "execution_count": 16,
   "id": "784aa1f4",
   "metadata": {},
   "outputs": [
    {
     "name": "stdout",
     "output_type": "stream",
     "text": [
      "{'Harry': 'Exceeds Outstanding', 'Ron': 'Acceptable', 'Hermione': 'Outstanding', 'Draco': 'Acceptable', 'Neiville': 'Fail'}\n"
     ]
    }
   ],
   "source": [
    "student_grades = {}\n",
    "\n",
    "for key in student_scores:\n",
    "    if student_scores[key] >= 91:\n",
    "        student_grades[key] = 'Outstanding'\n",
    "    if 81 <= student_scores[key] <= 90:\n",
    "        student_grades[key] = 'Exceeds Outstanding'\n",
    "    if 71 <= student_scores[key] <= 80:\n",
    "        student_grades[key] = 'Acceptable'\n",
    "    if student_scores[key] <= 70:\n",
    "        student_grades[key] = 'Fail'\n",
    "print(student_grades)\n"
   ]
  },
  {
   "cell_type": "code",
   "execution_count": 13,
   "id": "ac259f85",
   "metadata": {},
   "outputs": [
    {
     "data": {
      "text/plain": [
       "{'Harry': 81, 'Ron': 78, 'Hermione': 99, 'Draco': 74, 'Neiville': 62}"
      ]
     },
     "execution_count": 13,
     "metadata": {},
     "output_type": "execute_result"
    }
   ],
   "source": [
    "student_scores"
   ]
  },
  {
   "cell_type": "code",
   "execution_count": null,
   "id": "41b18628",
   "metadata": {},
   "outputs": [],
   "source": []
  }
 ],
 "metadata": {
  "kernelspec": {
   "display_name": "Python 3 (ipykernel)",
   "language": "python",
   "name": "python3"
  },
  "language_info": {
   "codemirror_mode": {
    "name": "ipython",
    "version": 3
   },
   "file_extension": ".py",
   "mimetype": "text/x-python",
   "name": "python",
   "nbconvert_exporter": "python",
   "pygments_lexer": "ipython3",
   "version": "3.9.7"
  }
 },
 "nbformat": 4,
 "nbformat_minor": 5
}
