{
 "cells": [
  {
   "cell_type": "markdown",
   "id": "4713ba6f",
   "metadata": {},
   "source": [
    "### Task\n",
    "Read a given string, change the character at a given index and then print the modified string.\n",
    "\n",
    "### Function Description\n",
    "\n",
    "Complete the mutate_string function in the editor below.\n",
    "\n",
    "mutate_string has the following parameters:\n",
    "\n",
    "string string: the string to change\n",
    "int position: the index to insert the character at\n",
    "string character: the character to insert\n",
    "\n",
    "### Returns\n",
    "\n",
    "string: the altered string\n",
    "\n",
    "### Input Format\n",
    "\n",
    "The first line contains a string, .\n",
    "The next line contains an integer , the index location and a string , separated by a space.\n",
    "\n",
    "### Sample Input\n",
    "\n",
    "\n",
    "`>>> string = \"abracadabra\"`\n",
    "\n",
    "`>>> = list(string)`\n",
    "\n",
    "`>>> l[5] = 'k'`\n",
    "\n",
    "`>>> string = ''.join(l)`\n",
    "\n",
    "`>>> print string`\n",
    "\n",
    "### sample output\n",
    "\n",
    "abrackdabra\n",
    "\n"
   ]
  },
  {
   "cell_type": "code",
   "execution_count": 1,
   "id": "7fa0ae6a",
   "metadata": {},
   "outputs": [
    {
     "name": "stdout",
     "output_type": "stream",
     "text": [
      "Orange\n",
      "2 P\n",
      "OrPnge\n"
     ]
    }
   ],
   "source": [
    "def mutate_string(string, position, characters):\n",
    "    string = list(string)\n",
    "    string[position] = characters\n",
    "    string = \"\".join(string)\n",
    "    return string\n",
    "\n",
    "if __name__ == '__main__':\n",
    "    s = input()\n",
    "    i, c = input().split()\n",
    "    s_new = mutate_string(s, int(i), c)\n",
    "    print(s_new)"
   ]
  },
  {
   "cell_type": "code",
   "execution_count": null,
   "id": "97bf05cb",
   "metadata": {},
   "outputs": [],
   "source": []
  }
 ],
 "metadata": {
  "kernelspec": {
   "display_name": "Python 3 (ipykernel)",
   "language": "python",
   "name": "python3"
  },
  "language_info": {
   "codemirror_mode": {
    "name": "ipython",
    "version": 3
   },
   "file_extension": ".py",
   "mimetype": "text/x-python",
   "name": "python",
   "nbconvert_exporter": "python",
   "pygments_lexer": "ipython3",
   "version": "3.9.12"
  }
 },
 "nbformat": 4,
 "nbformat_minor": 5
}
