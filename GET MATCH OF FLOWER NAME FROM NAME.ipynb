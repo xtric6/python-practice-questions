{
 "cells": [
  {
   "cell_type": "markdown",
   "id": "93665116",
   "metadata": {},
   "source": [
    "### Question: \n",
    "Create a function that opens the flowers.txt, reads every line in it, and saves it as a dictionary. The main (separate) function should take user input (user's first name and last name) and parse the user input to identify the first letter of the first name. It should then use it to print the flower name with the same first letter (from dictionary created in the first function).\n",
    "\n",
    "Sample Output:"
   ]
  },
  {
   "cell_type": "markdown",
   "id": "75510560",
   "metadata": {},
   "source": [
    "#### My solution"
   ]
  },
  {
   "cell_type": "code",
   "execution_count": 108,
   "id": "6a6c232d",
   "metadata": {
    "scrolled": true
   },
   "outputs": [
    {
     "name": "stdout",
     "output_type": "stream",
     "text": [
      "Enter your First [space] Last name only: Esther Okpara\n"
     ]
    },
    {
     "data": {
      "text/plain": [
       "'Unique flower name with the first letter: English Bluebell'"
      ]
     },
     "execution_count": 108,
     "metadata": {},
     "output_type": "execute_result"
    }
   ],
   "source": [
    "#Mysolution\n",
    "def Getflowername():\n",
    "    full_name = input('Enter your First [space] Last name only: ')\n",
    "    full_name = full_name.capitalize()\n",
    "    with open('flowers.txt','r') as f:\n",
    "        alphabet = []\n",
    "        flower = []\n",
    "        for i in f:\n",
    "            alphabet.append(i[0])\n",
    "            flower.append(''.join(list(i[3:-1])))\n",
    "            flower_dictionary = dict(zip(alphabet,flower))\n",
    "            for key in flower_dictionary.keys():\n",
    "                if key == full_name[0]:\n",
    "                    result = flower_dictionary[key]\n",
    "        return f'Unique flower name with the first letter: {result}'\n",
    "\n",
    "Getflowername()\n",
    "        "
   ]
  },
  {
   "cell_type": "markdown",
   "id": "b7a5827a",
   "metadata": {},
   "source": [
    "#### Udacity Solution\n",
    "\n"
   ]
  },
  {
   "cell_type": "code",
   "execution_count": 102,
   "id": "f0e9a914",
   "metadata": {},
   "outputs": [
    {
     "name": "stdout",
     "output_type": "stream",
     "text": [
      "Enter your First [space] Last name only: Anuoluwapo Grace\n",
      "Unique flower name with the first letter: African Daisy\n"
     ]
    }
   ],
   "source": [
    "#create a dictionary that converts the file to a dictionary\n",
    "\n",
    "def create_flowerdict(file_name):\n",
    "    flowers_dict = {}\n",
    "    with open(file_name) as f:\n",
    "        for line in f:\n",
    "            letter = line.split(': ')[0].lower()\n",
    "            names = line.split(': ')[1].strip()\n",
    "            flowers_dict[letter] = names\n",
    "        return flowers_dict\n",
    "    \n",
    "# Main function that prompts for user input, parses out the first letter\n",
    "# includes function call for create_flowerdict to create dictionary\n",
    "def main(): \n",
    "    flower_d = create_flowerdict('flowers.txt')\n",
    "    full_name = input(\"Enter your First [space] Last name only: \")\n",
    "    first_name = full_name[0].lower()\n",
    "    first_letter = first_name[0]\n",
    "# print command that prints final input with value from corresponding key in dictionary\n",
    "    print(\"Unique flower name with the first letter: {}\".format(flower_d[first_letter]))\n",
    "\n",
    "main()\n",
    "    "
   ]
  },
  {
   "cell_type": "code",
   "execution_count": 109,
   "id": "e4c11bb5",
   "metadata": {
    "collapsed": true
   },
   "outputs": [
    {
     "ename": "TypeError",
     "evalue": "unsupported operand type(s) for /: 'str' and 'int'",
     "output_type": "error",
     "traceback": [
      "\u001b[1;31m---------------------------------------------------------------------------\u001b[0m",
      "\u001b[1;31mTypeError\u001b[0m                                 Traceback (most recent call last)",
      "Input \u001b[1;32mIn [109]\u001b[0m, in \u001b[0;36m<cell line: 1>\u001b[1;34m()\u001b[0m\n\u001b[1;32m----> 1\u001b[0m \u001b[38;5;124;43m'\u001b[39;49m\u001b[38;5;124;43mk\u001b[39;49m\u001b[38;5;124;43m'\u001b[39;49m\u001b[38;5;241;43m/\u001b[39;49m\u001b[38;5;241;43m80\u001b[39;49m\n",
      "\u001b[1;31mTypeError\u001b[0m: unsupported operand type(s) for /: 'str' and 'int'"
     ]
    }
   ],
   "source": [
    "'k'/80"
   ]
  },
  {
   "cell_type": "code",
   "execution_count": null,
   "id": "d23d3228",
   "metadata": {},
   "outputs": [],
   "source": []
  }
 ],
 "metadata": {
  "kernelspec": {
   "display_name": "Python 3 (ipykernel)",
   "language": "python",
   "name": "python3"
  },
  "language_info": {
   "codemirror_mode": {
    "name": "ipython",
    "version": 3
   },
   "file_extension": ".py",
   "mimetype": "text/x-python",
   "name": "python",
   "nbconvert_exporter": "python",
   "pygments_lexer": "ipython3",
   "version": "3.9.12"
  }
 },
 "nbformat": 4,
 "nbformat_minor": 5
}
