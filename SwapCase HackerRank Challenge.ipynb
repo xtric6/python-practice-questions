{
 "cells": [
  {
   "cell_type": "markdown",
   "id": "863c0eb8",
   "metadata": {},
   "source": [
    "You are given a string and your task is to swap cases. In other words, convert all lowercase letters to uppercase letters and vice versa.\n",
    "\n",
    "For Example:\n",
    "\n",
    "`Www.HackerRank.com` → `wWW.hACKERrANK.COM`\n",
    "\n",
    "`Pythonist 2` → `pYTHONIST 2`  \n",
    "\n",
    "#### Function Description\n",
    "\n",
    "Complete the swap_case function in the editor below.\n",
    "\n",
    "swap_case has the following parameters:\n",
    "\n",
    "* string s: the string to modify\n",
    "\n",
    "#### Returns\n",
    "\n",
    "* string: the modified string\n",
    "\n",
    "#### Input Format\n",
    "\n",
    "A single line containing a string s .\n",
    "\n",
    "#### Sample input 0\n",
    "\n",
    "`hACKERrANK.COM PRESENTS \"pYTHONIST 2\".`\n",
    "\n",
    "#### Expected Output 0\n",
    "\n",
    "`hACKERrANK.COM PRESENTS \"pYTHONIST 2\".`\n"
   ]
  },
  {
   "cell_type": "code",
   "execution_count": null,
   "id": "61d6a723",
   "metadata": {},
   "outputs": [],
   "source": [
    "def swap_case(s):\n",
    "    word = ''\n",
    "    for i in s:\n",
    "        if i.isupper() == True:\n",
    "            word+=i.lower()\n",
    "        elif i.islower() == True:\n",
    "            word+= i.upper()\n",
    "        else:\n",
    "            word+= i\n",
    "    return word\n",
    "\n",
    "if __name__ == '__main__':\n",
    "    s = input()\n",
    "    result = swap_case(s)\n",
    "    print(result)"
   ]
  }
 ],
 "metadata": {
  "kernelspec": {
   "display_name": "Python 3 (ipykernel)",
   "language": "python",
   "name": "python3"
  },
  "language_info": {
   "codemirror_mode": {
    "name": "ipython",
    "version": 3
   },
   "file_extension": ".py",
   "mimetype": "text/x-python",
   "name": "python",
   "nbconvert_exporter": "python",
   "pygments_lexer": "ipython3",
   "version": "3.9.12"
  }
 },
 "nbformat": 4,
 "nbformat_minor": 5
}
